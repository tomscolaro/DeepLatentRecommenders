{
 "metadata": {
  "language_info": {
   "codemirror_mode": {
    "name": "ipython",
    "version": 3
   },
   "file_extension": ".py",
   "mimetype": "text/x-python",
   "name": "python",
   "nbconvert_exporter": "python",
   "pygments_lexer": "ipython3",
   "version": "3.8.3-final"
  },
  "orig_nbformat": 2,
  "kernelspec": {
   "name": "python_defaultSpec_1600832033167",
   "display_name": "Python 3.7.6 64-bit ('base': conda)"
  }
 },
 "nbformat": 4,
 "nbformat_minor": 2,
 "cells": [
  {
   "cell_type": "code",
   "execution_count": 1,
   "metadata": {},
   "outputs": [],
   "source": [
    "import pandas as pd\n",
    "import torch\n",
    "import torch.nn as nn\n",
    "import torch.nn.functional as F\n",
    "import deeplatent as dl\n",
    "\n",
    "if torch.cuda.is_available():\n",
    "    device = torch.device(\"cuda:0\")\n",
    "else:\n",
    "     device = torch.device(\"cpu\")\n",
    "# device = torch.device(\"cuda:0\") "
   ]
  },
  {
   "cell_type": "code",
   "execution_count": 18,
   "metadata": {},
   "outputs": [],
   "source": [
    "# pass in column names for each CSV\n",
    "u_cols = ['user_id', 'age', 'sex', 'occupation', 'zip_code']\n",
    "users = pd.read_csv('../data/ml-1m/users.dat', sep='::', names=u_cols,\n",
    "                    encoding='latin-1')\n",
    "\n",
    "r_cols = ['user_id', 'movie_id', 'rating', 'unix_timestamp']\n",
    "ratings = pd.read_csv('../data/ml-1m/ratings.dat', sep='::', names=r_cols,\n",
    "                      encoding='latin-1')\n",
    "\n",
    "# the movies file contains columns indicating the movie's genres\n",
    "# let's only load the first five columns of the file with usecols\n",
    "m_cols = ['movie_id', 'title', 'genre', 'video_release_date']\n",
    "movies = pd.read_csv('../data/ml-1m/movies.dat', sep='::', names=m_cols, usecols=range(4),encoding='latin-1')\n",
    "movies['genre'] = movies.genre.str.split('|')\n",
    "\n",
    "\n",
    "# create one merged DataFrame\n",
    "movie_ratings = pd.merge(movies, ratings)\n",
    "lens = pd.merge(users, movie_ratings)"
   ]
  },
  {
   "cell_type": "code",
   "execution_count": 19,
   "metadata": {},
   "outputs": [
    {
     "output_type": "execute_result",
     "data": {
      "text/plain": "   user_id age  sex  occupation zip_code  movie_id  \\\n0        1   F    1          10    48067         1   \n1        1   F    1          10    48067        48   \n2        1   F    1          10    48067       150   \n3        1   F    1          10    48067       260   \n4        1   F    1          10    48067       527   \n\n                                       title  \\\n0                           Toy Story (1995)   \n1                          Pocahontas (1995)   \n2                           Apollo 13 (1995)   \n3  Star Wars: Episode IV - A New Hope (1977)   \n4                    Schindler's List (1993)   \n\n                                       genre  video_release_date  rating  \\\n0            [Animation, Children's, Comedy]                 NaN       5   \n1  [Animation, Children's, Musical, Romance]                 NaN       5   \n2                                    [Drama]                 NaN       5   \n3       [Action, Adventure, Fantasy, Sci-Fi]                 NaN       4   \n4                               [Drama, War]                 NaN       5   \n\n   unix_timestamp  \n0       978824268  \n1       978824351  \n2       978301777  \n3       978300760  \n4       978824195  ",
      "text/html": "<div>\n<style scoped>\n    .dataframe tbody tr th:only-of-type {\n        vertical-align: middle;\n    }\n\n    .dataframe tbody tr th {\n        vertical-align: top;\n    }\n\n    .dataframe thead th {\n        text-align: right;\n    }\n</style>\n<table border=\"1\" class=\"dataframe\">\n  <thead>\n    <tr style=\"text-align: right;\">\n      <th></th>\n      <th>user_id</th>\n      <th>age</th>\n      <th>sex</th>\n      <th>occupation</th>\n      <th>zip_code</th>\n      <th>movie_id</th>\n      <th>title</th>\n      <th>genre</th>\n      <th>video_release_date</th>\n      <th>rating</th>\n      <th>unix_timestamp</th>\n    </tr>\n  </thead>\n  <tbody>\n    <tr>\n      <th>0</th>\n      <td>1</td>\n      <td>F</td>\n      <td>1</td>\n      <td>10</td>\n      <td>48067</td>\n      <td>1</td>\n      <td>Toy Story (1995)</td>\n      <td>[Animation, Children's, Comedy]</td>\n      <td>NaN</td>\n      <td>5</td>\n      <td>978824268</td>\n    </tr>\n    <tr>\n      <th>1</th>\n      <td>1</td>\n      <td>F</td>\n      <td>1</td>\n      <td>10</td>\n      <td>48067</td>\n      <td>48</td>\n      <td>Pocahontas (1995)</td>\n      <td>[Animation, Children's, Musical, Romance]</td>\n      <td>NaN</td>\n      <td>5</td>\n      <td>978824351</td>\n    </tr>\n    <tr>\n      <th>2</th>\n      <td>1</td>\n      <td>F</td>\n      <td>1</td>\n      <td>10</td>\n      <td>48067</td>\n      <td>150</td>\n      <td>Apollo 13 (1995)</td>\n      <td>[Drama]</td>\n      <td>NaN</td>\n      <td>5</td>\n      <td>978301777</td>\n    </tr>\n    <tr>\n      <th>3</th>\n      <td>1</td>\n      <td>F</td>\n      <td>1</td>\n      <td>10</td>\n      <td>48067</td>\n      <td>260</td>\n      <td>Star Wars: Episode IV - A New Hope (1977)</td>\n      <td>[Action, Adventure, Fantasy, Sci-Fi]</td>\n      <td>NaN</td>\n      <td>4</td>\n      <td>978300760</td>\n    </tr>\n    <tr>\n      <th>4</th>\n      <td>1</td>\n      <td>F</td>\n      <td>1</td>\n      <td>10</td>\n      <td>48067</td>\n      <td>527</td>\n      <td>Schindler's List (1993)</td>\n      <td>[Drama, War]</td>\n      <td>NaN</td>\n      <td>5</td>\n      <td>978824195</td>\n    </tr>\n  </tbody>\n</table>\n</div>"
     },
     "metadata": {},
     "execution_count": 19
    }
   ],
   "source": [
    "lens.head()"
   ]
  },
  {
   "cell_type": "code",
   "execution_count": 11,
   "metadata": {},
   "outputs": [],
   "source": [
    "y = ratings.rating.values\n",
    "x = ratings.values[:,0:1].reshape(-1,1)\n",
    "\n",
    "y = torch.from_numpy(y).to(torch.float64)\n",
    "x = torch.from_numpy(x).to(torch.int64)"
   ]
  },
  {
   "cell_type": "code",
   "execution_count": 12,
   "metadata": {},
   "outputs": [
    {
     "output_type": "execute_result",
     "data": {
      "text/plain": "torch.Size([75])"
     },
     "metadata": {},
     "execution_count": 12
    }
   ],
   "source": [
    "torch.unique(x).shape"
   ]
  },
  {
   "cell_type": "code",
   "execution_count": 6,
   "metadata": {},
   "outputs": [],
   "source": []
  },
  {
   "cell_type": "code",
   "execution_count": 13,
   "metadata": {},
   "outputs": [],
   "source": [
    "model = dl.DeepLatentNN(n_u=3313)"
   ]
  },
  {
   "cell_type": "code",
   "execution_count": 14,
   "metadata": {
    "tags": [
     "outputPrepend"
    ]
   },
   "outputs": [
    {
     "output_type": "stream",
     "name": "stdout",
     "text": "2817]],\n\n        ...,\n\n        [[3.3350]],\n\n        [[3.3350]],\n\n        [[3.3350]]], grad_fn=<AddBackward0>)\ntensor([[[3.2825]],\n\n        [[3.2825]],\n\n        [[3.2825]],\n\n        ...,\n\n        [[3.3352]],\n\n        [[3.3352]],\n\n        [[3.3352]]], grad_fn=<AddBackward0>)\ntensor([[[3.2833]],\n\n        [[3.2833]],\n\n        [[3.2833]],\n\n        ...,\n\n        [[3.3354]],\n\n        [[3.3354]],\n\n        [[3.3354]]], grad_fn=<AddBackward0>)\ntensor([[[3.2841]],\n\n        [[3.2841]],\n\n        [[3.2841]],\n\n        ...,\n\n        [[3.3356]],\n\n        [[3.3356]],\n\n        [[3.3356]]], grad_fn=<AddBackward0>)\ntensor([[[3.2849]],\n\n        [[3.2849]],\n\n        [[3.2849]],\n\n        ...,\n\n        [[3.3358]],\n\n        [[3.3358]],\n\n        [[3.3358]]], grad_fn=<AddBackward0>)\ntensor([[[3.2857]],\n\n        [[3.2857]],\n\n        [[3.2857]],\n\n        ...,\n\n        [[3.3360]],\n\n        [[3.3360]],\n\n        [[3.3360]]], grad_fn=<AddBackward0>)\ntensor([[[3.2865]],\n\n        [[3.2865]],\n\n        [[3.2865]],\n\n        ...,\n\n        [[3.3361]],\n\n        [[3.3361]],\n\n        [[3.3361]]], grad_fn=<AddBackward0>)\ntensor([[[3.2873]],\n\n        [[3.2873]],\n\n        [[3.2873]],\n\n        ...,\n\n        [[3.3363]],\n\n        [[3.3363]],\n\n        [[3.3363]]], grad_fn=<AddBackward0>)\ntensor([[[3.2881]],\n\n        [[3.2881]],\n\n        [[3.2881]],\n\n        ...,\n\n        [[3.3365]],\n\n        [[3.3365]],\n\n        [[3.3365]]], grad_fn=<AddBackward0>)\ntensor([[[3.2889]],\n\n        [[3.2889]],\n\n        [[3.2889]],\n\n        ...,\n\n        [[3.3367]],\n\n        [[3.3367]],\n\n        [[3.3367]]], grad_fn=<AddBackward0>)\ntensor([[[3.2897]],\n\n        [[3.2897]],\n\n        [[3.2897]],\n\n        ...,\n\n        [[3.3368]],\n\n        [[3.3368]],\n\n        [[3.3368]]], grad_fn=<AddBackward0>)\ntensor([[[3.2904]],\n\n        [[3.2904]],\n\n        [[3.2904]],\n\n        ...,\n\n        [[3.3370]],\n\n        [[3.3370]],\n\n        [[3.3370]]], grad_fn=<AddBackward0>)\ntensor([[[3.2912]],\n\n        [[3.2912]],\n\n        [[3.2912]],\n\n        ...,\n\n        [[3.3371]],\n\n        [[3.3371]],\n\n        [[3.3371]]], grad_fn=<AddBackward0>)\ntensor([[[3.2920]],\n\n        [[3.2920]],\n\n        [[3.2920]],\n\n        ...,\n\n        [[3.3373]],\n\n        [[3.3373]],\n\n        [[3.3373]]], grad_fn=<AddBackward0>)\ntensor([[[3.2927]],\n\n        [[3.2927]],\n\n        [[3.2927]],\n\n        ...,\n\n        [[3.3374]],\n\n        [[3.3374]],\n\n        [[3.3374]]], grad_fn=<AddBackward0>)\ntensor([[[3.2935]],\n\n        [[3.2935]],\n\n        [[3.2935]],\n\n        ...,\n\n        [[3.3376]],\n\n        [[3.3376]],\n\n        [[3.3376]]], grad_fn=<AddBackward0>)\ntensor([[[3.2943]],\n\n        [[3.2943]],\n\n        [[3.2943]],\n\n        ...,\n\n        [[3.3377]],\n\n        [[3.3377]],\n\n        [[3.3377]]], grad_fn=<AddBackward0>)\ntensor([[[3.2950]],\n\n        [[3.2950]],\n\n        [[3.2950]],\n\n        ...,\n\n        [[3.3379]],\n\n        [[3.3379]],\n\n        [[3.3379]]], grad_fn=<AddBackward0>)\ntensor([[[3.2958]],\n\n        [[3.2958]],\n\n        [[3.2958]],\n\n        ...,\n\n        [[3.3380]],\n\n        [[3.3380]],\n\n        [[3.3380]]], grad_fn=<AddBackward0>)\ntensor([[[3.2965]],\n\n        [[3.2965]],\n\n        [[3.2965]],\n\n        ...,\n\n        [[3.3382]],\n\n        [[3.3382]],\n\n        [[3.3382]]], grad_fn=<AddBackward0>)\ntensor([[[3.2973]],\n\n        [[3.2973]],\n\n        [[3.2973]],\n\n        ...,\n\n        [[3.3383]],\n\n        [[3.3383]],\n\n        [[3.3383]]], grad_fn=<AddBackward0>)\ntensor([[[3.2980]],\n\n        [[3.2980]],\n\n        [[3.2980]],\n\n        ...,\n\n        [[3.3384]],\n\n        [[3.3384]],\n\n        [[3.3384]]], grad_fn=<AddBackward0>)\n399 1.2603342012152587\ntensor([[[3.2987]],\n\n        [[3.2987]],\n\n        [[3.2987]],\n\n        ...,\n\n        [[3.3386]],\n\n        [[3.3386]],\n\n        [[3.3386]]], grad_fn=<AddBackward0>)\ntensor([[[3.2995]],\n\n        [[3.2995]],\n\n        [[3.2995]],\n\n        ...,\n\n        [[3.3387]],\n\n        [[3.3387]],\n\n        [[3.3387]]], grad_fn=<AddBackward0>)\ntensor([[[3.3002]],\n\n        [[3.3002]],\n\n        [[3.3002]],\n\n        ...,\n\n        [[3.3388]],\n\n        [[3.3388]],\n\n        [[3.3388]]], grad_fn=<AddBackward0>)\ntensor([[[3.3009]],\n\n        [[3.3009]],\n\n        [[3.3009]],\n\n        ...,\n\n        [[3.3390]],\n\n        [[3.3390]],\n\n        [[3.3390]]], grad_fn=<AddBackward0>)\ntensor([[[3.3017]],\n\n        [[3.3017]],\n\n        [[3.3017]],\n\n        ...,\n\n        [[3.3391]],\n\n        [[3.3391]],\n\n        [[3.3391]]], grad_fn=<AddBackward0>)\ntensor([[[3.3024]],\n\n        [[3.3024]],\n\n        [[3.3024]],\n\n        ...,\n\n        [[3.3392]],\n\n        [[3.3392]],\n\n        [[3.3392]]], grad_fn=<AddBackward0>)\ntensor([[[3.3031]],\n\n        [[3.3031]],\n\n        [[3.3031]],\n\n        ...,\n\n        [[3.3393]],\n\n        [[3.3393]],\n\n        [[3.3393]]], grad_fn=<AddBackward0>)\ntensor([[[3.3038]],\n\n        [[3.3038]],\n\n        [[3.3038]],\n\n        ...,\n\n        [[3.3394]],\n\n        [[3.3394]],\n\n        [[3.3394]]], grad_fn=<AddBackward0>)\ntensor([[[3.3045]],\n\n        [[3.3045]],\n\n        [[3.3045]],\n\n        ...,\n\n        [[3.3395]],\n\n        [[3.3395]],\n\n        [[3.3395]]], grad_fn=<AddBackward0>)\ntensor([[[3.3052]],\n\n        [[3.3052]],\n\n        [[3.3052]],\n\n        ...,\n\n        [[3.3397]],\n\n        [[3.3397]],\n\n        [[3.3397]]], grad_fn=<AddBackward0>)\ntensor([[[3.3059]],\n\n        [[3.3059]],\n\n        [[3.3059]],\n\n        ...,\n\n        [[3.3398]],\n\n        [[3.3398]],\n\n        [[3.3398]]], grad_fn=<AddBackward0>)\ntensor([[[3.3066]],\n\n        [[3.3066]],\n\n        [[3.3066]],\n\n        ...,\n\n        [[3.3399]],\n\n        [[3.3399]],\n\n        [[3.3399]]], grad_fn=<AddBackward0>)\ntensor([[[3.3073]],\n\n        [[3.3073]],\n\n        [[3.3073]],\n\n        ...,\n\n        [[3.3400]],\n\n        [[3.3400]],\n\n        [[3.3400]]], grad_fn=<AddBackward0>)\ntensor([[[3.3080]],\n\n        [[3.3080]],\n\n        [[3.3080]],\n\n        ...,\n\n        [[3.3401]],\n\n        [[3.3401]],\n\n        [[3.3401]]], grad_fn=<AddBackward0>)\ntensor([[[3.3087]],\n\n        [[3.3087]],\n\n        [[3.3087]],\n\n        ...,\n\n        [[3.3402]],\n\n        [[3.3402]],\n\n        [[3.3402]]], grad_fn=<AddBackward0>)\ntensor([[[3.3094]],\n\n        [[3.3094]],\n\n        [[3.3094]],\n\n        ...,\n\n        [[3.3403]],\n\n        [[3.3403]],\n\n        [[3.3403]]], grad_fn=<AddBackward0>)\ntensor([[[3.3101]],\n\n        [[3.3101]],\n\n        [[3.3101]],\n\n        ...,\n\n        [[3.3404]],\n\n        [[3.3404]],\n\n        [[3.3404]]], grad_fn=<AddBackward0>)\ntensor([[[3.3108]],\n\n        [[3.3108]],\n\n        [[3.3108]],\n\n        ...,\n\n        [[3.3405]],\n\n        [[3.3405]],\n\n        [[3.3405]]], grad_fn=<AddBackward0>)\ntensor([[[3.3115]],\n\n        [[3.3115]],\n\n        [[3.3115]],\n\n        ...,\n\n        [[3.3406]],\n\n        [[3.3406]],\n\n        [[3.3406]]], grad_fn=<AddBackward0>)\ntensor([[[3.3122]],\n\n        [[3.3122]],\n\n        [[3.3122]],\n\n        ...,\n\n        [[3.3407]],\n\n        [[3.3407]],\n\n        [[3.3407]]], grad_fn=<AddBackward0>)\ntensor([[[3.3129]],\n\n        [[3.3129]],\n\n        [[3.3129]],\n\n        ...,\n\n        [[3.3408]],\n\n        [[3.3408]],\n\n        [[3.3408]]], grad_fn=<AddBackward0>)\ntensor([[[3.3135]],\n\n        [[3.3135]],\n\n        [[3.3135]],\n\n        ...,\n\n        [[3.3409]],\n\n        [[3.3409]],\n\n        [[3.3409]]], grad_fn=<AddBackward0>)\ntensor([[[3.3142]],\n\n        [[3.3142]],\n\n        [[3.3142]],\n\n        ...,\n\n        [[3.3410]],\n\n        [[3.3410]],\n\n        [[3.3410]]], grad_fn=<AddBackward0>)\ntensor([[[3.3149]],\n\n        [[3.3149]],\n\n        [[3.3149]],\n\n        ...,\n\n        [[3.3410]],\n\n        [[3.3410]],\n\n        [[3.3410]]], grad_fn=<AddBackward0>)\ntensor([[[3.3156]],\n\n        [[3.3156]],\n\n        [[3.3156]],\n\n        ...,\n\n        [[3.3411]],\n\n        [[3.3411]],\n\n        [[3.3411]]], grad_fn=<AddBackward0>)\ntensor([[[3.3162]],\n\n        [[3.3162]],\n\n        [[3.3162]],\n\n        ...,\n\n        [[3.3412]],\n\n        [[3.3412]],\n\n        [[3.3412]]], grad_fn=<AddBackward0>)\ntensor([[[3.3169]],\n\n        [[3.3169]],\n\n        [[3.3169]],\n\n        ...,\n\n        [[3.3413]],\n\n        [[3.3413]],\n\n        [[3.3413]]], grad_fn=<AddBackward0>)\ntensor([[[3.3175]],\n\n        [[3.3175]],\n\n        [[3.3175]],\n\n        ...,\n\n        [[3.3414]],\n\n        [[3.3414]],\n\n        [[3.3414]]], grad_fn=<AddBackward0>)\ntensor([[[3.3182]],\n\n        [[3.3182]],\n\n        [[3.3182]],\n\n        ...,\n\n        [[3.3415]],\n\n        [[3.3415]],\n\n        [[3.3415]]], grad_fn=<AddBackward0>)\ntensor([[[3.3189]],\n\n        [[3.3189]],\n\n        [[3.3189]],\n\n        ...,\n\n        [[3.3415]],\n\n        [[3.3415]],\n\n        [[3.3415]]], grad_fn=<AddBackward0>)\ntensor([[[3.3195]],\n\n        [[3.3195]],\n\n        [[3.3195]],\n\n        ...,\n\n        [[3.3416]],\n\n        [[3.3416]],\n\n        [[3.3416]]], grad_fn=<AddBackward0>)\ntensor([[[3.3202]],\n\n        [[3.3202]],\n\n        [[3.3202]],\n\n        ...,\n\n        [[3.3417]],\n\n        [[3.3417]],\n\n        [[3.3417]]], grad_fn=<AddBackward0>)\ntensor([[[3.3208]],\n\n        [[3.3208]],\n\n        [[3.3208]],\n\n        ...,\n\n        [[3.3418]],\n\n        [[3.3418]],\n\n        [[3.3418]]], grad_fn=<AddBackward0>)\ntensor([[[3.3215]],\n\n        [[3.3215]],\n\n        [[3.3215]],\n\n        ...,\n\n        [[3.3418]],\n\n        [[3.3418]],\n\n        [[3.3418]]], grad_fn=<AddBackward0>)\ntensor([[[3.3221]],\n\n        [[3.3221]],\n\n        [[3.3221]],\n\n        ...,\n\n        [[3.3419]],\n\n        [[3.3419]],\n\n        [[3.3419]]], grad_fn=<AddBackward0>)\ntensor([[[3.3228]],\n\n        [[3.3228]],\n\n        [[3.3228]],\n\n        ...,\n\n        [[3.3420]],\n\n        [[3.3420]],\n\n        [[3.3420]]], grad_fn=<AddBackward0>)\ntensor([[[3.3234]],\n\n        [[3.3234]],\n\n        [[3.3234]],\n\n        ...,\n\n        [[3.3421]],\n\n        [[3.3421]],\n\n        [[3.3421]]], grad_fn=<AddBackward0>)\ntensor([[[3.3240]],\n\n        [[3.3240]],\n\n        [[3.3240]],\n\n        ...,\n\n        [[3.3421]],\n\n        [[3.3421]],\n\n        [[3.3421]]], grad_fn=<AddBackward0>)\ntensor([[[3.3247]],\n\n        [[3.3247]],\n\n        [[3.3247]],\n\n        ...,\n\n        [[3.3422]],\n\n        [[3.3422]],\n\n        [[3.3422]]], grad_fn=<AddBackward0>)\ntensor([[[3.3253]],\n\n        [[3.3253]],\n\n        [[3.3253]],\n\n        ...,\n\n        [[3.3423]],\n\n        [[3.3423]],\n\n        [[3.3423]]], grad_fn=<AddBackward0>)\ntensor([[[3.3260]],\n\n        [[3.3260]],\n\n        [[3.3260]],\n\n        ...,\n\n        [[3.3423]],\n\n        [[3.3423]],\n\n        [[3.3423]]], grad_fn=<AddBackward0>)\ntensor([[[3.3266]],\n\n        [[3.3266]],\n\n        [[3.3266]],\n\n        ...,\n\n        [[3.3424]],\n\n        [[3.3424]],\n\n        [[3.3424]]], grad_fn=<AddBackward0>)\ntensor([[[3.3272]],\n\n        [[3.3272]],\n\n        [[3.3272]],\n\n        ...,\n\n        [[3.3425]],\n\n        [[3.3425]],\n\n        [[3.3425]]], grad_fn=<AddBackward0>)\ntensor([[[3.3278]],\n\n        [[3.3278]],\n\n        [[3.3278]],\n\n        ...,\n\n        [[3.3425]],\n\n        [[3.3425]],\n\n        [[3.3425]]], grad_fn=<AddBackward0>)\ntensor([[[3.3285]],\n\n        [[3.3285]],\n\n        [[3.3285]],\n\n        ...,\n\n        [[3.3426]],\n\n        [[3.3426]],\n\n        [[3.3426]]], grad_fn=<AddBackward0>)\ntensor([[[3.3291]],\n\n        [[3.3291]],\n\n        [[3.3291]],\n\n        ...,\n\n        [[3.3426]],\n\n        [[3.3426]],\n\n        [[3.3426]]], grad_fn=<AddBackward0>)\ntensor([[[3.3297]],\n\n        [[3.3297]],\n\n        [[3.3297]],\n\n        ...,\n\n        [[3.3427]],\n\n        [[3.3427]],\n\n        [[3.3427]]], grad_fn=<AddBackward0>)\ntensor([[[3.3303]],\n\n        [[3.3303]],\n\n        [[3.3303]],\n\n        ...,\n\n        [[3.3428]],\n\n        [[3.3428]],\n\n        [[3.3428]]], grad_fn=<AddBackward0>)\ntensor([[[3.3310]],\n\n        [[3.3310]],\n\n        [[3.3310]],\n\n        ...,\n\n        [[3.3428]],\n\n        [[3.3428]],\n\n        [[3.3428]]], grad_fn=<AddBackward0>)\ntensor([[[3.3316]],\n\n        [[3.3316]],\n\n        [[3.3316]],\n\n        ...,\n\n        [[3.3429]],\n\n        [[3.3429]],\n\n        [[3.3429]]], grad_fn=<AddBackward0>)\ntensor([[[3.3322]],\n\n        [[3.3322]],\n\n        [[3.3322]],\n\n        ...,\n\n        [[3.3429]],\n\n        [[3.3429]],\n\n        [[3.3429]]], grad_fn=<AddBackward0>)\ntensor([[[3.3328]],\n\n        [[3.3328]],\n\n        [[3.3328]],\n\n        ...,\n\n        [[3.3430]],\n\n        [[3.3430]],\n\n        [[3.3430]]], grad_fn=<AddBackward0>)\ntensor([[[3.3334]],\n\n        [[3.3334]],\n\n        [[3.3334]],\n\n        ...,\n\n        [[3.3430]],\n\n        [[3.3430]],\n\n        [[3.3430]]], grad_fn=<AddBackward0>)\ntensor([[[3.3340]],\n\n        [[3.3340]],\n\n        [[3.3340]],\n\n        ...,\n\n        [[3.3431]],\n\n        [[3.3431]],\n\n        [[3.3431]]], grad_fn=<AddBackward0>)\ntensor([[[3.3346]],\n\n        [[3.3346]],\n\n        [[3.3346]],\n\n        ...,\n\n        [[3.3431]],\n\n        [[3.3431]],\n\n        [[3.3431]]], grad_fn=<AddBackward0>)\ntensor([[[3.3352]],\n\n        [[3.3352]],\n\n        [[3.3352]],\n\n        ...,\n\n        [[3.3432]],\n\n        [[3.3432]],\n\n        [[3.3432]]], grad_fn=<AddBackward0>)\ntensor([[[3.3358]],\n\n        [[3.3358]],\n\n        [[3.3358]],\n\n        ...,\n\n        [[3.3432]],\n\n        [[3.3432]],\n\n        [[3.3432]]], grad_fn=<AddBackward0>)\ntensor([[[3.3364]],\n\n        [[3.3364]],\n\n        [[3.3364]],\n\n        ...,\n\n        [[3.3433]],\n\n        [[3.3433]],\n\n        [[3.3433]]], grad_fn=<AddBackward0>)\ntensor([[[3.3370]],\n\n        [[3.3370]],\n\n        [[3.3370]],\n\n        ...,\n\n        [[3.3434]],\n\n        [[3.3434]],\n\n        [[3.3434]]], grad_fn=<AddBackward0>)\ntensor([[[3.3376]],\n\n        [[3.3376]],\n\n        [[3.3376]],\n\n        ...,\n\n        [[3.3434]],\n\n        [[3.3434]],\n\n        [[3.3434]]], grad_fn=<AddBackward0>)\ntensor([[[3.3382]],\n\n        [[3.3382]],\n\n        [[3.3382]],\n\n        ...,\n\n        [[3.3435]],\n\n        [[3.3435]],\n\n        [[3.3435]]], grad_fn=<AddBackward0>)\ntensor([[[3.3388]],\n\n        [[3.3388]],\n\n        [[3.3388]],\n\n        ...,\n\n        [[3.3435]],\n\n        [[3.3435]],\n\n        [[3.3435]]], grad_fn=<AddBackward0>)\ntensor([[[3.3394]],\n\n        [[3.3394]],\n\n        [[3.3394]],\n\n        ...,\n\n        [[3.3436]],\n\n        [[3.3436]],\n\n        [[3.3436]]], grad_fn=<AddBackward0>)\ntensor([[[3.3400]],\n\n        [[3.3400]],\n\n        [[3.3400]],\n\n        ...,\n\n        [[3.3436]],\n\n        [[3.3436]],\n\n        [[3.3436]]], grad_fn=<AddBackward0>)\ntensor([[[3.3406]],\n\n        [[3.3406]],\n\n        [[3.3406]],\n\n        ...,\n\n        [[3.3437]],\n\n        [[3.3437]],\n\n        [[3.3437]]], grad_fn=<AddBackward0>)\ntensor([[[3.3412]],\n\n        [[3.3412]],\n\n        [[3.3412]],\n\n        ...,\n\n        [[3.3437]],\n\n        [[3.3437]],\n\n        [[3.3437]]], grad_fn=<AddBackward0>)\ntensor([[[3.3418]],\n\n        [[3.3418]],\n\n        [[3.3418]],\n\n        ...,\n\n        [[3.3437]],\n\n        [[3.3437]],\n\n        [[3.3437]]], grad_fn=<AddBackward0>)\ntensor([[[3.3424]],\n\n        [[3.3424]],\n\n        [[3.3424]],\n\n        ...,\n\n        [[3.3438]],\n\n        [[3.3438]],\n\n        [[3.3438]]], grad_fn=<AddBackward0>)\ntensor([[[3.3430]],\n\n        [[3.3430]],\n\n        [[3.3430]],\n\n        ...,\n\n        [[3.3438]],\n\n        [[3.3438]],\n\n        [[3.3438]]], grad_fn=<AddBackward0>)\ntensor([[[3.3435]],\n\n        [[3.3435]],\n\n        [[3.3435]],\n\n        ...,\n\n        [[3.3439]],\n\n        [[3.3439]],\n\n        [[3.3439]]], grad_fn=<AddBackward0>)\ntensor([[[3.3441]],\n\n        [[3.3441]],\n\n        [[3.3441]],\n\n        ...,\n\n        [[3.3439]],\n\n        [[3.3439]],\n\n        [[3.3439]]], grad_fn=<AddBackward0>)\ntensor([[[3.3447]],\n\n        [[3.3447]],\n\n        [[3.3447]],\n\n        ...,\n\n        [[3.3440]],\n\n        [[3.3440]],\n\n        [[3.3440]]], grad_fn=<AddBackward0>)\ntensor([[[3.3453]],\n\n        [[3.3453]],\n\n        [[3.3453]],\n\n        ...,\n\n        [[3.3440]],\n\n        [[3.3440]],\n\n        [[3.3440]]], grad_fn=<AddBackward0>)\ntensor([[[3.3459]],\n\n        [[3.3459]],\n\n        [[3.3459]],\n\n        ...,\n\n        [[3.3441]],\n\n        [[3.3441]],\n\n        [[3.3441]]], grad_fn=<AddBackward0>)\ntensor([[[3.3465]],\n\n        [[3.3465]],\n\n        [[3.3465]],\n\n        ...,\n\n        [[3.3441]],\n\n        [[3.3441]],\n\n        [[3.3441]]], grad_fn=<AddBackward0>)\ntensor([[[3.3470]],\n\n        [[3.3470]],\n\n        [[3.3470]],\n\n        ...,\n\n        [[3.3442]],\n\n        [[3.3442]],\n\n        [[3.3442]]], grad_fn=<AddBackward0>)\ntensor([[[3.3476]],\n\n        [[3.3476]],\n\n        [[3.3476]],\n\n        ...,\n\n        [[3.3442]],\n\n        [[3.3442]],\n\n        [[3.3442]]], grad_fn=<AddBackward0>)\ntensor([[[3.3482]],\n\n        [[3.3482]],\n\n        [[3.3482]],\n\n        ...,\n\n        [[3.3443]],\n\n        [[3.3443]],\n\n        [[3.3443]]], grad_fn=<AddBackward0>)\ntensor([[[3.3488]],\n\n        [[3.3488]],\n\n        [[3.3488]],\n\n        ...,\n\n        [[3.3443]],\n\n        [[3.3443]],\n\n        [[3.3443]]], grad_fn=<AddBackward0>)\ntensor([[[3.3493]],\n\n        [[3.3493]],\n\n        [[3.3493]],\n\n        ...,\n\n        [[3.3443]],\n\n        [[3.3443]],\n\n        [[3.3443]]], grad_fn=<AddBackward0>)\ntensor([[[3.3499]],\n\n        [[3.3499]],\n\n        [[3.3499]],\n\n        ...,\n\n        [[3.3444]],\n\n        [[3.3444]],\n\n        [[3.3444]]], grad_fn=<AddBackward0>)\ntensor([[[3.3505]],\n\n        [[3.3505]],\n\n        [[3.3505]],\n\n        ...,\n\n        [[3.3444]],\n\n        [[3.3444]],\n\n        [[3.3444]]], grad_fn=<AddBackward0>)\ntensor([[[3.3510]],\n\n        [[3.3510]],\n\n        [[3.3510]],\n\n        ...,\n\n        [[3.3445]],\n\n        [[3.3445]],\n\n        [[3.3445]]], grad_fn=<AddBackward0>)\ntensor([[[3.3516]],\n\n        [[3.3516]],\n\n        [[3.3516]],\n\n        ...,\n\n        [[3.3445]],\n\n        [[3.3445]],\n\n        [[3.3445]]], grad_fn=<AddBackward0>)\ntensor([[[3.3522]],\n\n        [[3.3522]],\n\n        [[3.3522]],\n\n        ...,\n\n        [[3.3445]],\n\n        [[3.3445]],\n\n        [[3.3445]]], grad_fn=<AddBackward0>)\ntensor([[[3.3527]],\n\n        [[3.3527]],\n\n        [[3.3527]],\n\n        ...,\n\n        [[3.3446]],\n\n        [[3.3446]],\n\n        [[3.3446]]], grad_fn=<AddBackward0>)\ntensor([[[3.3533]],\n\n        [[3.3533]],\n\n        [[3.3533]],\n\n        ...,\n\n        [[3.3446]],\n\n        [[3.3446]],\n\n        [[3.3446]]], grad_fn=<AddBackward0>)\ntensor([[[3.3538]],\n\n        [[3.3538]],\n\n        [[3.3538]],\n\n        ...,\n\n        [[3.3447]],\n\n        [[3.3447]],\n\n        [[3.3447]]], grad_fn=<AddBackward0>)\ntensor([[[3.3544]],\n\n        [[3.3544]],\n\n        [[3.3544]],\n\n        ...,\n\n        [[3.3447]],\n\n        [[3.3447]],\n\n        [[3.3447]]], grad_fn=<AddBackward0>)\ntensor([[[3.3550]],\n\n        [[3.3550]],\n\n        [[3.3550]],\n\n        ...,\n\n        [[3.3447]],\n\n        [[3.3447]],\n\n        [[3.3447]]], grad_fn=<AddBackward0>)\ntensor([[[3.3555]],\n\n        [[3.3555]],\n\n        [[3.3555]],\n\n        ...,\n\n        [[3.3448]],\n\n        [[3.3448]],\n\n        [[3.3448]]], grad_fn=<AddBackward0>)\ntensor([[[3.3561]],\n\n        [[3.3561]],\n\n        [[3.3561]],\n\n        ...,\n\n        [[3.3448]],\n\n        [[3.3448]],\n\n        [[3.3448]]], grad_fn=<AddBackward0>)\ntensor([[[3.3566]],\n\n        [[3.3566]],\n\n        [[3.3566]],\n\n        ...,\n\n        [[3.3449]],\n\n        [[3.3449]],\n\n        [[3.3449]]], grad_fn=<AddBackward0>)\ntensor([[[3.3572]],\n\n        [[3.3572]],\n\n        [[3.3572]],\n\n        ...,\n\n        [[3.3449]],\n\n        [[3.3449]],\n\n        [[3.3449]]], grad_fn=<AddBackward0>)\ntensor([[[3.3577]],\n\n        [[3.3577]],\n\n        [[3.3577]],\n\n        ...,\n\n        [[3.3449]],\n\n        [[3.3449]],\n\n        [[3.3449]]], grad_fn=<AddBackward0>)\ntensor([[[3.3583]],\n\n        [[3.3583]],\n\n        [[3.3583]],\n\n        ...,\n\n        [[3.3450]],\n\n        [[3.3450]],\n\n        [[3.3450]]], grad_fn=<AddBackward0>)\ntensor([[[3.3588]],\n\n        [[3.3588]],\n\n        [[3.3588]],\n\n        ...,\n\n        [[3.3450]],\n\n        [[3.3450]],\n\n        [[3.3450]]], grad_fn=<AddBackward0>)\ntensor([[[3.3594]],\n\n        [[3.3594]],\n\n        [[3.3594]],\n\n        ...,\n\n        [[3.3451]],\n\n        [[3.3451]],\n\n        [[3.3451]]], grad_fn=<AddBackward0>)\ntensor([[[3.3599]],\n\n        [[3.3599]],\n\n        [[3.3599]],\n\n        ...,\n\n        [[3.3451]],\n\n        [[3.3451]],\n\n        [[3.3451]]], grad_fn=<AddBackward0>)\ntensor([[[3.3605]],\n\n        [[3.3605]],\n\n        [[3.3605]],\n\n        ...,\n\n        [[3.3451]],\n\n        [[3.3451]],\n\n        [[3.3451]]], grad_fn=<AddBackward0>)\n499 1.2084760152864118\n"
    }
   ],
   "source": [
    "\n",
    "# Construct our loss function and an Optimizer. Training this strange model with\n",
    "# vanilla stochastic gradient descent is tough, so we use momentum\n",
    "criterion = torch.nn.MSELoss()\n",
    "optimizer = torch.optim.SGD(model.parameters(), lr=1e-4, momentum=0.9)\n",
    "for t in range(500):\n",
    "    # Forward pass: Compute predicted y by passing x to the model\n",
    "    y_pred = model(x).double()\n",
    "    \n",
    "    # Compute and print loss\n",
    "    loss = criterion(y_pred, y)\n",
    "    if t % 100 == 99:\n",
    "        print(t, loss.item())\n",
    "\n",
    "    # Zero gradients, perform a backward pass, and update the weights.\n",
    "    optimizer.zero_grad()\n",
    "    loss.backward()\n",
    "    optimizer.step()"
   ]
  },
  {
   "cell_type": "code",
   "execution_count": null,
   "metadata": {},
   "outputs": [],
   "source": []
  },
  {
   "cell_type": "code",
   "execution_count": null,
   "metadata": {},
   "outputs": [],
   "source": []
  }
 ]
}