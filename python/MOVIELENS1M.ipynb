{
 "metadata": {
  "language_info": {
   "codemirror_mode": {
    "name": "ipython",
    "version": 3
   },
   "file_extension": ".py",
   "mimetype": "text/x-python",
   "name": "python",
   "nbconvert_exporter": "python",
   "pygments_lexer": "ipython3",
   "version": "3.8.3-final"
  },
  "orig_nbformat": 2,
  "kernelspec": {
   "name": "Python 3.8.3 64-bit ('base': conda)",
   "display_name": "Python 3.8.3 64-bit ('base': conda)",
   "metadata": {
    "interpreter": {
     "hash": "97da2328e4c52c97ac87892a031393dc0184ccbbe0cf43af55736cf6961c58fa"
    }
   }
  }
 },
 "nbformat": 4,
 "nbformat_minor": 2,
 "cells": [
  {
   "cell_type": "code",
   "execution_count": 1,
   "metadata": {},
   "outputs": [],
   "source": [
    "import pandas as pd\n",
    "import numpy as np\n",
    "from sklearn.model_selection import train_test_split\n",
    "import torch\n",
    "import torch.nn as nn\n",
    "import torch.nn.functional as F\n",
    "import deeplatent as dl\n",
    "torch.cuda.empty_cache()\n",
    "\n",
    "# if torch.cuda.is_available():\n",
    "#     device = torch.device(\"cuda:0\")\n"
   ]
  },
  {
   "cell_type": "code",
   "execution_count": 2,
   "metadata": {},
   "outputs": [],
   "source": [
    "# pass in column names for each CSV\n",
    "u_cols = ['user_id',  'sex','age', 'occupation', 'zip_code']\n",
    "users = pd.read_csv('../data/ml-1m/users.dat', sep='::', names=u_cols, #nrows=1000,\n",
    "                    encoding='latin-1')\n",
    "\n",
    "r_cols = ['user_id', 'movie_id', 'rating', 'unix_timestamp']\n",
    "ratings = pd.read_csv('../data/ml-1m/ratings.dat', sep='::', names=r_cols,\n",
    "                      encoding='latin-1')\n",
    "\n",
    "# the movies file contains columns indicating the movie's genres\n",
    "# let's only load the first five columns of the file with usecols\n",
    "m_cols = ['movie_id', 'title', 'genre', ]\n",
    "movies = pd.read_csv('../data/ml-1m/movies.dat', sep='::', names=m_cols, usecols=range(3),encoding='latin-1')\n",
    "movies['genre'] = movies.genre.str.split('|')\n",
    "\n",
    "\n",
    "# create one merged DataFrame\n",
    "movie_ratings = pd.merge(movies, ratings)\n",
    "lens = pd.merge(users, movie_ratings)\n",
    "lens['sex'] = lens['sex'].apply(lambda x: 1 if x == 'F' else 0)"
   ]
  },
  {
   "cell_type": "code",
   "execution_count": 3,
   "metadata": {},
   "outputs": [],
   "source": [
    "x_train ,x_test, y_train , y_test = train_test_split(lens[['user_id','movie_id']].values, lens['rating'].values, test_size=0.1, random_state=42)"
   ]
  },
  {
   "cell_type": "code",
   "execution_count": 4,
   "metadata": {},
   "outputs": [
    {
     "output_type": "execute_result",
     "data": {
      "text/plain": "   user_id  sex  age  occupation zip_code  movie_id  \\\n0        1    1    1          10    48067         1   \n1        1    1    1          10    48067        48   \n2        1    1    1          10    48067       150   \n3        1    1    1          10    48067       260   \n4        1    1    1          10    48067       527   \n\n                                       title  \\\n0                           Toy Story (1995)   \n1                          Pocahontas (1995)   \n2                           Apollo 13 (1995)   \n3  Star Wars: Episode IV - A New Hope (1977)   \n4                    Schindler's List (1993)   \n\n                                       genre  rating  unix_timestamp  \n0            [Animation, Children's, Comedy]       5       978824268  \n1  [Animation, Children's, Musical, Romance]       5       978824351  \n2                                    [Drama]       5       978301777  \n3       [Action, Adventure, Fantasy, Sci-Fi]       4       978300760  \n4                               [Drama, War]       5       978824195  ",
      "text/html": "<div>\n<style scoped>\n    .dataframe tbody tr th:only-of-type {\n        vertical-align: middle;\n    }\n\n    .dataframe tbody tr th {\n        vertical-align: top;\n    }\n\n    .dataframe thead th {\n        text-align: right;\n    }\n</style>\n<table border=\"1\" class=\"dataframe\">\n  <thead>\n    <tr style=\"text-align: right;\">\n      <th></th>\n      <th>user_id</th>\n      <th>sex</th>\n      <th>age</th>\n      <th>occupation</th>\n      <th>zip_code</th>\n      <th>movie_id</th>\n      <th>title</th>\n      <th>genre</th>\n      <th>rating</th>\n      <th>unix_timestamp</th>\n    </tr>\n  </thead>\n  <tbody>\n    <tr>\n      <th>0</th>\n      <td>1</td>\n      <td>1</td>\n      <td>1</td>\n      <td>10</td>\n      <td>48067</td>\n      <td>1</td>\n      <td>Toy Story (1995)</td>\n      <td>[Animation, Children's, Comedy]</td>\n      <td>5</td>\n      <td>978824268</td>\n    </tr>\n    <tr>\n      <th>1</th>\n      <td>1</td>\n      <td>1</td>\n      <td>1</td>\n      <td>10</td>\n      <td>48067</td>\n      <td>48</td>\n      <td>Pocahontas (1995)</td>\n      <td>[Animation, Children's, Musical, Romance]</td>\n      <td>5</td>\n      <td>978824351</td>\n    </tr>\n    <tr>\n      <th>2</th>\n      <td>1</td>\n      <td>1</td>\n      <td>1</td>\n      <td>10</td>\n      <td>48067</td>\n      <td>150</td>\n      <td>Apollo 13 (1995)</td>\n      <td>[Drama]</td>\n      <td>5</td>\n      <td>978301777</td>\n    </tr>\n    <tr>\n      <th>3</th>\n      <td>1</td>\n      <td>1</td>\n      <td>1</td>\n      <td>10</td>\n      <td>48067</td>\n      <td>260</td>\n      <td>Star Wars: Episode IV - A New Hope (1977)</td>\n      <td>[Action, Adventure, Fantasy, Sci-Fi]</td>\n      <td>4</td>\n      <td>978300760</td>\n    </tr>\n    <tr>\n      <th>4</th>\n      <td>1</td>\n      <td>1</td>\n      <td>1</td>\n      <td>10</td>\n      <td>48067</td>\n      <td>527</td>\n      <td>Schindler's List (1993)</td>\n      <td>[Drama, War]</td>\n      <td>5</td>\n      <td>978824195</td>\n    </tr>\n  </tbody>\n</table>\n</div>"
     },
     "metadata": {},
     "execution_count": 4
    }
   ],
   "source": [
    "lens.head()"
   ]
  },
  {
   "cell_type": "code",
   "execution_count": 5,
   "metadata": {
    "tags": []
   },
   "outputs": [
    {
     "output_type": "stream",
     "name": "stdout",
     "text": "6040 3706\n"
    }
   ],
   "source": [
    "n_u = lens['user_id'].nunique() \n",
    "n_m = lens['movie_id'].nunique() \n",
    "print(n_u, n_m)"
   ]
  },
  {
   "cell_type": "code",
   "execution_count": 6,
   "metadata": {},
   "outputs": [],
   "source": [
    "y = torch.from_numpy(y_train).to(torch.float64)\n",
    "x = torch.from_numpy(x_train).to(torch.int64)\n",
    "y_test = torch.from_numpy(y_test).to(torch.float64)\n",
    "x_test = torch.from_numpy(x_test).to(torch.int64)"
   ]
  },
  {
   "cell_type": "code",
   "execution_count": 7,
   "metadata": {
    "tags": []
   },
   "outputs": [
    {
     "output_type": "stream",
     "name": "stdout",
     "text": "Using GeForce GTX 1660 Ti as device\n"
    },
    {
     "output_type": "execute_result",
     "data": {
      "text/plain": "DeepLatentNN(\n  (layerEncodeU): Embedding(6365, 100, sparse=True)\n  (layerEncodeM): Embedding(4031, 100, sparse=True)\n  (layerEncodeUB): Embedding(6365, 1, sparse=True)\n  (layerEncodeMB): Embedding(4031, 1, sparse=True)\n)"
     },
     "metadata": {},
     "execution_count": 7
    }
   ],
   "source": [
    "model = dl.DeepLatentNN(n_users = n_u+325, n_movies = n_m +325, n_factors = 100)\n",
    "model.to(device)"
   ]
  },
  {
   "cell_type": "code",
   "execution_count": 8,
   "metadata": {
    "tags": []
   },
   "outputs": [
    {
     "output_type": "stream",
     "name": "stdout",
     "text": "99 2.5684215971552895\n199 2.568401421271187\n299 2.5683812475666317\n399 2.5683610783649664\n499 2.568340904621713\n"
    }
   ],
   "source": [
    "\n",
    "# Construct our loss function and an Optimizer. Training this strange model with\n",
    "# vanilla stochastic gradient descent is tough, so we use momentum\n",
    "criterion = torch.nn.L1Loss()\n",
    "optimizer = torch.optim.SparseAdam(model.parameters(), lr=1e-2)#, momentum =.4)\n",
    "y = y.to(device)\n",
    "for t in range(500):\n",
    "    # Forward pass: Compute predicted y by passing x to the model\n",
    "    y_pred = model(x1 = x[:,0], x2 = x[:,1]).double()\n",
    "    \n",
    "    # Compute and print loss\n",
    "    loss = criterion(y_pred, y).double()\n",
    "    if t % 100 == 99:\n",
    "        print(t, loss.item())\n",
    "\n",
    "    # Zero gradients, perform a backward pass, and update the weights.\n",
    "    optimizer.zero_grad()\n",
    "    loss.backward()\n",
    "    optimizer.step()"
   ]
  },
  {
   "cell_type": "code",
   "execution_count": 9,
   "metadata": {},
   "outputs": [],
   "source": [
    "res = model(x1 = x_test[:,0], x2 = x_test[:,1]).double()"
   ]
  },
  {
   "cell_type": "code",
   "execution_count": null,
   "metadata": {
    "tags": []
   },
   "outputs": [],
   "source": [
    "y_test = y_test.to(device)\n",
    "criterion(y_test, res).double()"
   ]
  },
  {
   "cell_type": "code",
   "execution_count": null,
   "metadata": {},
   "outputs": [],
   "source": [
    "x_test, y_test"
   ]
  },
  {
   "cell_type": "code",
   "execution_count": null,
   "metadata": {},
   "outputs": [],
   "source": [
    "res"
   ]
  },
  {
   "cell_type": "code",
   "execution_count": 10,
   "metadata": {},
   "outputs": [
    {
     "output_type": "execute_result",
     "data": {
      "text/plain": "858852864"
     },
     "metadata": {},
     "execution_count": 10
    }
   ],
   "source": [
    "torch.cuda.memory_allocated()\n"
   ]
  },
  {
   "cell_type": "code",
   "execution_count": 12,
   "metadata": {},
   "outputs": [
    {
     "output_type": "execute_result",
     "data": {
      "text/plain": "1020917248"
     },
     "metadata": {},
     "execution_count": 12
    }
   ],
   "source": [
    "torch.cuda.max_memory_allocated()-torch.cuda.memory_allocated()\n"
   ]
  },
  {
   "cell_type": "code",
   "execution_count": 13,
   "metadata": {},
   "outputs": [],
   "source": [
    "torch.cuda.empty_cache()\n"
   ]
  },
  {
   "cell_type": "code",
   "execution_count": 2,
   "metadata": {},
   "outputs": [
    {
     "output_type": "execute_result",
     "data": {
      "text/plain": "0"
     },
     "metadata": {},
     "execution_count": 2
    }
   ],
   "source": [
    "torch.cuda.memory_allocated()"
   ]
  },
  {
   "cell_type": "code",
   "execution_count": null,
   "metadata": {},
   "outputs": [],
   "source": []
  }
 ]
}